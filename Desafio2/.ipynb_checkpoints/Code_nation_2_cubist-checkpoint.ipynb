{
 "cells": [
  {
   "cell_type": "code",
   "execution_count": 66,
   "metadata": {
    "collapsed": true
   },
   "outputs": [],
   "source": [
    "import pandas as pd\n",
    "import numpy as np\n",
    "import requests\n",
    "import seaborn as sns\n",
    "import json\n",
    "import matplotlib.pyplot as plt\n",
    "%matplotlib inline\n",
    "pd.set_option('display.max_columns', 200)"
   ]
  },
  {
   "cell_type": "code",
   "execution_count": 109,
   "metadata": {
    "collapsed": true
   },
   "outputs": [],
   "source": [
    "train = pd.read_csv(\"train.csv\")\n",
    "test1 = pd.read_csv(\"test2.csv\")\n",
    "columns_test = test.columns.tolist()\n",
    "columns_test.append(\"NU_NOTA_MT\")\n",
    "train = train[columns_test]\n",
    "#test.head()"
   ]
  },
  {
   "cell_type": "code",
   "execution_count": null,
   "metadata": {
    "collapsed": true
   },
   "outputs": [],
   "source": []
  },
  {
   "cell_type": "markdown",
   "metadata": {},
   "source": [
    "# Tratamento"
   ]
  },
  {
   "cell_type": "code",
   "execution_count": 93,
   "metadata": {
    "collapsed": true
   },
   "outputs": [],
   "source": [
    "def limpar_cubist(trainf1):\n",
    "\n",
    "#Dados dropados\n",
    "    trainf1 = trainf1.drop(['Q027','TP_DEPENDENCIA_ADM_ESC','TP_ENSINO'], axis=1) #missing\n",
    "    trainf1 = trainf1.drop(['CO_UF_RESIDENCIA','IN_CEGUEIRA','IN_DISLEXIA','IN_DISCALCULIA','IN_IDOSO','IN_SURDEZ'], axis=1) #sem diferenciação\n",
    "    trainf1 = trainf1.drop(['NU_NOTA_REDACAO','TP_PRESENCA_CN', 'TP_PRESENCA_CH', 'TP_PRESENCA_LC', 'TP_STATUS_REDACAO'], axis=1) #redundantes\n",
    "\n",
    "#dados nulos\n",
    "    trainf1['NU_NOTA_CN'] = trainf1['NU_NOTA_CN'].fillna(trainf1['NU_NOTA_CN'].mean())\n",
    "    trainf1['NU_NOTA_CH'] = trainf1['NU_NOTA_CH'].fillna(trainf1['NU_NOTA_CH'].mean())\n",
    "    trainf1['NU_NOTA_LC'] = trainf1['NU_NOTA_LC'].fillna(trainf1['NU_NOTA_LC'].mean())\n",
    "    trainf1['NU_NOTA_COMP1'] = trainf1['NU_NOTA_COMP1'].fillna(trainf1['NU_NOTA_COMP1'].mean())\n",
    "    trainf1['NU_NOTA_COMP2'] = trainf1['NU_NOTA_COMP2'].fillna(trainf1['NU_NOTA_COMP2'].mean())\n",
    "    trainf1['NU_NOTA_COMP3'] = trainf1['NU_NOTA_COMP3'].fillna(trainf1['NU_NOTA_COMP3'].mean())\n",
    "    trainf1['NU_NOTA_COMP4'] = trainf1['NU_NOTA_COMP4'].fillna(trainf1['NU_NOTA_COMP4'].mean())\n",
    "    trainf1['NU_NOTA_COMP5'] = trainf1['NU_NOTA_COMP5'].fillna(trainf1['NU_NOTA_COMP5'].mean()) \n",
    "    \n",
    "# TP_COR_RACA    \n",
    "    trainf1['TP_COR_RACA'] = trainf1['TP_COR_RACA'].astype(str)\n",
    "    trainf1['TP_COR_RACA'] = trainf1['TP_COR_RACA'].replace({'0': 'A', '1': 'B', '2':'C', '3':'D', '4':'E','5':'F', '6':'G'})\n",
    "# TP_NACIONALIDADE\n",
    "    trainf1['TP_NACIONALIDADE'] = trainf1['TP_NACIONALIDADE'].astype(str)\n",
    "    trainf1['TP_NACIONALIDADE'] =  trainf1['TP_NACIONALIDADE'].replace({'0': 'A', '1': 'B', '2':'C', '3':'D', '4':'E'})\n",
    "# TP_ST_CONCLUSAO\n",
    "    trainf1['TP_ST_CONCLUSAO'] = trainf1['TP_ST_CONCLUSAO'].astype(str)\n",
    "    trainf1['TP_ST_CONCLUSAO'] =  trainf1['TP_ST_CONCLUSAO'].replace({'1': 'A', '2': 'B', '3':'C', '4':'D'})\n",
    "# TP_ANO_CONCLUIU\n",
    "    trainf1['TP_ANO_CONCLUIU'] = trainf1['TP_ANO_CONCLUIU'].astype(str)\n",
    "    trainf1['TP_ANO_CONCLUIU'] =  trainf1['TP_ANO_CONCLUIU'].replace({'0': 'A', '1': 'B', '2':'C', '3':'D', '4':'E','5':'F', '6':'G','7':'H','8':'I','9':'J','10':'K'})\n",
    "# TP_ESCOLA\n",
    "    trainf1['TP_ESCOLA'] = trainf1['TP_ESCOLA'].astype(str)\n",
    "    trainf1['TP_ESCOLA'] =  trainf1['TP_ESCOLA'].replace({'1': 'A', '2': 'B', '3':'C'})\n",
    "# IN_TREINEIRO\n",
    "    trainf1[\"IN_TREINEIRO\"] = trainf1[\"IN_TREINEIRO\"].astype(str)\n",
    "    trainf1[\"IN_TREINEIRO\"] = trainf1[\"IN_TREINEIRO\"].replace({'0': 'A', '1': 'B'})\n",
    "# IN_BAIXA_VISAO, IN_CEGUEIRA, IN_SURDEZ, IN_DISLEXIA, IN_DISCALCULIA, IN_SABATISTA, IN_GESTANTE, IN_IDOSO\n",
    "    trainf1[\"IN_SABATISTA\"] = trainf1[\"IN_SABATISTA\"].astype(str)\n",
    "    trainf1[\"IN_SABATISTA\"] = trainf1[\"IN_SABATISTA\"].replace({'0': 'A', '1': 'B'})\n",
    "    trainf1[\"IN_GESTANTE\"] = trainf1[\"IN_GESTANTE\"].astype(str)\n",
    "    trainf1[\"IN_GESTANTE\"] = trainf1[\"IN_GESTANTE\"].replace({'0': 'A', '1': 'B'})\n",
    "    trainf1[\"IN_BAIXA_VISAO\"] = trainf1[\"IN_BAIXA_VISAO\"].astype(str)\n",
    "    trainf1[\"IN_BAIXA_VISAO\"] = trainf1[\"IN_BAIXA_VISAO\"].replace({'0': 'A', '1': 'B'})\n",
    "# TP_LINGUA\n",
    "    trainf1[\"TP_LINGUA\"] = trainf1[\"TP_LINGUA\"].astype(str)\n",
    "    trainf1[\"TP_LINGUA\"] = trainf1['TP_LINGUA'].replace({'0': 'A', '1': 'B'})\n",
    "  \n",
    "\n",
    "    return trainf1"
   ]
  },
  {
   "cell_type": "code",
   "execution_count": 94,
   "metadata": {
    "collapsed": true
   },
   "outputs": [],
   "source": [
    "train = limpar_cubist(train)\n",
    "#train.head()"
   ]
  },
  {
   "cell_type": "code",
   "execution_count": 95,
   "metadata": {},
   "outputs": [],
   "source": [
    "test = limpar_cubist(test)\n",
    "#test.head()"
   ]
  },
  {
   "cell_type": "code",
   "execution_count": 96,
   "metadata": {},
   "outputs": [],
   "source": [
    "train['NU_NOTA_MT'] = train['NU_NOTA_MT'].fillna(0) "
   ]
  },
  {
   "cell_type": "code",
   "execution_count": 98,
   "metadata": {
    "collapsed": true
   },
   "outputs": [],
   "source": [
    "features = train.columns.tolist()\n",
    "features.remove('NU_INSCRICAO')\n",
    "features.remove('NU_NOTA_MT')\n",
    "#train[features].head()"
   ]
  },
  {
   "cell_type": "code",
   "execution_count": 106,
   "metadata": {},
   "outputs": [],
   "source": [
    "X_train2 = train[features]\n",
    "y = train[['NU_NOTA_MT',\"NU_INSCRICAO\"]]\n",
    "y_train2 = y.drop(['NU_INSCRICAO'], axis=1)\n",
    "X_test2 = test[features]"
   ]
  },
  {
   "cell_type": "code",
   "execution_count": 107,
   "metadata": {
    "collapsed": true
   },
   "outputs": [],
   "source": [
    "X_train2.to_csv('X_train2.csv', encoding='UTF-8')\n",
    "y_train2.to_csv('y_train2.csv')\n",
    "X_test2.to_csv('X_test2.csv', encoding='UTF-8')"
   ]
  },
  {
   "cell_type": "markdown",
   "metadata": {},
   "source": [
    "# Submission"
   ]
  },
  {
   "cell_type": "code",
   "execution_count": 112,
   "metadata": {},
   "outputs": [
    {
     "data": {
      "text/html": [
       "<div>\n",
       "<style>\n",
       "    .dataframe thead tr:only-child th {\n",
       "        text-align: right;\n",
       "    }\n",
       "\n",
       "    .dataframe thead th {\n",
       "        text-align: left;\n",
       "    }\n",
       "\n",
       "    .dataframe tbody tr th {\n",
       "        vertical-align: top;\n",
       "    }\n",
       "</style>\n",
       "<table border=\"1\" class=\"dataframe\">\n",
       "  <thead>\n",
       "    <tr style=\"text-align: right;\">\n",
       "      <th></th>\n",
       "      <th>NU_NOTA_MT</th>\n",
       "      <th>NU_INSCRICAO</th>\n",
       "    </tr>\n",
       "  </thead>\n",
       "  <tbody>\n",
       "    <tr>\n",
       "      <th>0</th>\n",
       "      <td>466.190887</td>\n",
       "      <td>308f78623f08debb592f85560c1b87b5df05e364</td>\n",
       "    </tr>\n",
       "    <tr>\n",
       "      <th>1</th>\n",
       "      <td>746.050110</td>\n",
       "      <td>0ef34d3340773d13c98ecc8fcd888150a24c63c3</td>\n",
       "    </tr>\n",
       "    <tr>\n",
       "      <th>2</th>\n",
       "      <td>454.623077</td>\n",
       "      <td>e5a70516338bf0a1b0d7ccda3ed995a7400a95ff</td>\n",
       "    </tr>\n",
       "    <tr>\n",
       "      <th>3</th>\n",
       "      <td>441.973145</td>\n",
       "      <td>1eda43516bcc8b2f081e447535c73579cb030b7e</td>\n",
       "    </tr>\n",
       "    <tr>\n",
       "      <th>4</th>\n",
       "      <td>644.682312</td>\n",
       "      <td>b5b00cb4cb52757ea34990f4c2072c4d059068b7</td>\n",
       "    </tr>\n",
       "  </tbody>\n",
       "</table>\n",
       "</div>"
      ],
      "text/plain": [
       "   NU_NOTA_MT                              NU_INSCRICAO\n",
       "0  466.190887  308f78623f08debb592f85560c1b87b5df05e364\n",
       "1  746.050110  0ef34d3340773d13c98ecc8fcd888150a24c63c3\n",
       "2  454.623077  e5a70516338bf0a1b0d7ccda3ed995a7400a95ff\n",
       "3  441.973145  1eda43516bcc8b2f081e447535c73579cb030b7e\n",
       "4  644.682312  b5b00cb4cb52757ea34990f4c2072c4d059068b7"
      ]
     },
     "execution_count": 112,
     "metadata": {},
     "output_type": "execute_result"
    }
   ],
   "source": [
    "pred10 = pd.read_csv('predictions.csv')\n",
    "pred10['NU_INSCRICAO'] = test['NU_INSCRICAO']\n",
    "pred10.drop(['Unnamed: 0'], axis=1, inplace=True)\n",
    "pred10.columns = ['NU_NOTA_MT','NU_INSCRICAO']\n",
    "pred10.head()"
   ]
  },
  {
   "cell_type": "code",
   "execution_count": 113,
   "metadata": {
    "collapsed": true
   },
   "outputs": [],
   "source": [
    "Final_summit = pred10\n",
    "dic = Final_summit.to_dict(\"records\")\n",
    "dicf = {\n",
    "  \"token\": \"e2579c92a6ab22c1f8b612128ac33198167127c1\",\n",
    "  \"email\": \"tiago.shink@gmail.com\",\n",
    "  \"answer\": dic}"
   ]
  },
  {
   "cell_type": "code",
   "execution_count": 114,
   "metadata": {
    "collapsed": true
   },
   "outputs": [],
   "source": [
    "import requests\n",
    "\n",
    "r = requests.get('https://api.codenation.com.br/v1/user/acceleration/data-science/challenge/enem-2/submit')\n",
    "r = requests.post('https://api.codenation.com.br/v1/user/acceleration/data-science/challenge/enem-2/submit', json = dicf)"
   ]
  },
  {
   "cell_type": "code",
   "execution_count": 115,
   "metadata": {},
   "outputs": [
    {
     "name": "stdout",
     "output_type": "stream",
     "text": [
      "{\"score\":90.9147816916157}\n",
      "\n"
     ]
    }
   ],
   "source": [
    "print(r.text)"
   ]
  },
  {
   "cell_type": "code",
   "execution_count": null,
   "metadata": {
    "collapsed": true
   },
   "outputs": [],
   "source": []
  }
 ],
 "metadata": {
  "kernelspec": {
   "display_name": "Python 3",
   "language": "python",
   "name": "python3"
  },
  "language_info": {
   "codemirror_mode": {
    "name": "ipython",
    "version": 3
   },
   "file_extension": ".py",
   "mimetype": "text/x-python",
   "name": "python",
   "nbconvert_exporter": "python",
   "pygments_lexer": "ipython3",
   "version": "3.6.3"
  }
 },
 "nbformat": 4,
 "nbformat_minor": 2
}
