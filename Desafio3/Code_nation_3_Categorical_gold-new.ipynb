{
 "cells": [
  {
   "cell_type": "code",
   "execution_count": 1,
   "metadata": {
    "collapsed": true
   },
   "outputs": [],
   "source": [
    "import pandas as pd\n",
    "import numpy as np\n",
    "import requests\n",
    "import seaborn as sns\n",
    "import json\n",
    "import matplotlib.pyplot as plt\n",
    "%matplotlib inline\n",
    "pd.set_option('display.max_columns',400)\n",
    "from sklearn.preprocessing import LabelEncoder"
   ]
  },
  {
   "cell_type": "code",
   "execution_count": 2,
   "metadata": {
    "collapsed": true
   },
   "outputs": [],
   "source": [
    "train1 = pd.read_csv('train.csv')\n",
    "test = pd.read_csv('test3.csv')\n",
    "columns_test = test.columns.tolist()\n",
    "train = train1[columns_test]\n",
    "#test.head()"
   ]
  },
  {
   "cell_type": "code",
   "execution_count": 3,
   "metadata": {
    "collapsed": true
   },
   "outputs": [],
   "source": [
    "cols_features = ['CO_PROVA_MT', 'TX_RESPOSTAS_MT']\n",
    "cols_X = ['NU_INSCRICAO','CO_PROVA_MT', 'TX_RESPOSTAS_MT']\n",
    "train = train[cols_X]\n",
    "test = test[cols_X]\n",
    "train['CO_PROVA_MT'] = train['CO_PROVA_MT'].replace({\"50ce41dc05c4888b3cb778b060c044741b100565\": 'X', \"109b8441d32cb8eebe003cbbf21e90d1c9c4abfa\": 'AMARELA',\"a142bfd77e5c63a016a597142c900c63a516e76b\":'AZUL','1e7f6441d4706e748f6b1fb2f0827d556e1e638d':'CINZA','749033e660788d57d2ab756fa867fb48b8b2258d':\"ROSA\", \"6bb8bda6f43fc888e379a194c882838992c67ff9\":\"AZUL2\",\"cb4e46c73dd1093e9a908091c849744d00ccaede\":\"CINZA2\", \"095a12f1de800fa4912ec9a7eae5a86fd9a79d4e\":\"AMARELA2\",'e09570bab3ec777b3f24e0e99af8e92cb3b87346':\"ROSA2\" })\n",
    "train = train.dropna()\n",
    "test['CO_PROVA_MT'] = test['CO_PROVA_MT'].replace({\"50ce41dc05c4888b3cb778b060c044741b100565\": 'X', \"109b8441d32cb8eebe003cbbf21e90d1c9c4abfa\": 'AMARELA',\"a142bfd77e5c63a016a597142c900c63a516e76b\":'AZUL','1e7f6441d4706e748f6b1fb2f0827d556e1e638d':'CINZA','749033e660788d57d2ab756fa867fb48b8b2258d':\"ROSA\", \"6bb8bda6f43fc888e379a194c882838992c67ff9\":\"AZUL2\",\"cb4e46c73dd1093e9a908091c849744d00ccaede\":\"CINZA2\", \"095a12f1de800fa4912ec9a7eae5a86fd9a79d4e\":\"AMARELA2\",'e09570bab3ec777b3f24e0e99af8e92cb3b87346':\"ROSA2\" })"
   ]
  },
  {
   "cell_type": "markdown",
   "metadata": {},
   "source": [
    "# Test features"
   ]
  },
  {
   "cell_type": "code",
   "execution_count": 4,
   "metadata": {
    "collapsed": true
   },
   "outputs": [],
   "source": [
    "def limpeza_features_test(trainf1):\n",
    "\n",
    "#função de limpeza\n",
    "    def split_tx_features(trainf1):\n",
    "        tx = trainf1['TX_RESPOSTAS_MT'].str.split(r\"(.)\", expand=True).iloc[:,:81]\n",
    "        tx = tx.drop(np.arange(0,81,2).astype(int), axis=1)\n",
    "        new = [136,137,138,139,140,141,142,143,144,145,146,147,148,149,150,151,152,153,154,155,156,157,158,159,160,161,162,163,164,165,166,167,168,169,170,171,172,173,174,175]\n",
    "        tx.columns = new\n",
    "        tx['NU_INSCRICAO'] = trainf1['NU_INSCRICAO']    \n",
    "        return tx \n",
    "    train_feat = split_tx_features(trainf1)\n",
    "    trainf1 = trainf1.drop(['TX_RESPOSTAS_MT'], axis=1)\n",
    "    train_feat = train_feat.replace({\".\":\"*\"})\n",
    "\n",
    "    return trainf1.merge(train_feat, on='NU_INSCRICAO')"
   ]
  },
  {
   "cell_type": "code",
   "execution_count": 5,
   "metadata": {
    "collapsed": true
   },
   "outputs": [],
   "source": [
    "test_features = limpeza_features_test(test)\n",
    "#test_features.head()"
   ]
  },
  {
   "cell_type": "code",
   "execution_count": 6,
   "metadata": {
    "collapsed": true
   },
   "outputs": [],
   "source": [
    "enc = LabelEncoder()\n",
    "for i in range(136,176):\n",
    "    col_enc = i\n",
    "    test_features[col_enc] = enc.fit_transform(test_features[i])"
   ]
  },
  {
   "cell_type": "markdown",
   "metadata": {},
   "source": [
    "# Train Features"
   ]
  },
  {
   "cell_type": "code",
   "execution_count": 7,
   "metadata": {
    "collapsed": true
   },
   "outputs": [],
   "source": [
    "def limpeza_features_train(trainf1):\n",
    "\n",
    "#função de limpeza\n",
    "    def split_tx_features(trainf1):\n",
    "        tx = trainf1['TX_RESPOSTAS_MT'].str.split(r\"(.)\", expand=True)\n",
    "        tx = tx.drop(np.arange(0,91,2).astype(int), axis=1)\n",
    "        new = [136,137,138,139,140,141,142,143,144,145,146,147,148,149,150,151,152,153,154,155,156,157,158,159,160,161,162,163,164,165,166,167,168,169,170,171,172,173,174,175,176,177,178,179,180]\n",
    "        tx.columns = new\n",
    "        tx['NU_INSCRICAO'] = trainf1['NU_INSCRICAO']\n",
    "        return tx \n",
    "    train_feat = split_tx_features(trainf1)\n",
    "    trainf1 = trainf1.drop(['TX_RESPOSTAS_MT'], axis=1)\n",
    "    train_feat = train_feat.replace({\".\":\"*\"})\n",
    "\n",
    "    return trainf1.merge(train_feat, on='NU_INSCRICAO')"
   ]
  },
  {
   "cell_type": "code",
   "execution_count": 8,
   "metadata": {
    "collapsed": true
   },
   "outputs": [],
   "source": [
    "train_features = limpeza_features_train(train)\n",
    "#train_features.head()"
   ]
  },
  {
   "cell_type": "code",
   "execution_count": 9,
   "metadata": {
    "collapsed": true
   },
   "outputs": [],
   "source": [
    "enc = LabelEncoder()\n",
    "for i in range(136,176):\n",
    "    col_enc = i\n",
    "    train_features[col_enc] = enc.fit_transform(train_features[i])"
   ]
  },
  {
   "cell_type": "markdown",
   "metadata": {},
   "source": [
    "# Separando X e y de train_features e train_target"
   ]
  },
  {
   "cell_type": "code",
   "execution_count": 10,
   "metadata": {
    "collapsed": true
   },
   "outputs": [],
   "source": [
    "prova_am2 = train_features[train_features['CO_PROVA_MT'] == 'AMARELA2'].drop(['CO_PROVA_MT'], axis=1)\n",
    "prova_az2 = train_features[train_features['CO_PROVA_MT'] == 'AZUL2'].drop(['CO_PROVA_MT'], axis=1)\n",
    "prova_r2 = train_features[train_features['CO_PROVA_MT'] == 'ROSA2'].drop(['CO_PROVA_MT'], axis=1)\n",
    "prova_c2= train_features[train_features['CO_PROVA_MT'] == 'CINZA2'].drop(['CO_PROVA_MT'], axis=1)\n",
    "prova_az = train_features[train_features['CO_PROVA_MT'] == 'AZUL'].drop(['CO_PROVA_MT'], axis=1)\n",
    "prova_am = train_features[train_features['CO_PROVA_MT'] == 'AMARELA'].drop(['CO_PROVA_MT'], axis=1)\n",
    "prova_r = train_features[train_features['CO_PROVA_MT'] == 'ROSA'].drop(['CO_PROVA_MT'], axis=1)\n",
    "prova_c = train_features[train_features['CO_PROVA_MT'] == 'CINZA'].drop(['CO_PROVA_MT'], axis=1)"
   ]
  },
  {
   "cell_type": "code",
   "execution_count": 11,
   "metadata": {
    "collapsed": true
   },
   "outputs": [],
   "source": [
    "cols_y = [176,177,178,179,180]\n",
    "cols_x = ['NU_INSCRICAO', 176,177,178,179,180]"
   ]
  },
  {
   "cell_type": "markdown",
   "metadata": {},
   "source": [
    "# Separando em 5 respostas"
   ]
  },
  {
   "cell_type": "code",
   "execution_count": 12,
   "metadata": {
    "collapsed": true
   },
   "outputs": [],
   "source": [
    "y_am = prova_am[cols_y].values.astype(str)\n",
    "X_am = prova_am.drop(cols_x,axis=1).values\n",
    "y_az = prova_az[cols_y].values.astype(str)\n",
    "X_az = prova_az.drop(cols_x,axis=1).values\n",
    "y_c = prova_c[cols_y].values.astype(str)\n",
    "X_c = prova_c.drop(cols_x,axis=1).values\n",
    "y_r = prova_r[cols_y].values.astype(str)\n",
    "X_r = prova_r.drop(cols_x,axis=1).values\n",
    "y_am2 = prova_am2[cols_y].values.astype(str)\n",
    "X_am2 = prova_am2.drop(cols_x,axis=1).values\n",
    "y_az2 = prova_az2[cols_y].values.astype(str)\n",
    "X_az2 = prova_az2.drop(cols_x,axis=1).values\n",
    "y_c2 = prova_c2[cols_y].values.astype(str)\n",
    "X_c2 = prova_c2.drop(cols_x,axis=1).values\n",
    "y_r2 = prova_r2[cols_y].values.astype(str)\n",
    "X_r2 = prova_r2.drop(cols_x,axis=1).values"
   ]
  },
  {
   "cell_type": "markdown",
   "metadata": {},
   "source": [
    "# Modelo"
   ]
  },
  {
   "cell_type": "code",
   "execution_count": 13,
   "metadata": {},
   "outputs": [
    {
     "name": "stderr",
     "output_type": "stream",
     "text": [
      "Using TensorFlow backend.\n"
     ]
    }
   ],
   "source": [
    "from seqlearn.hmm import MultinomialHMM\n",
    "from sklearn.metrics import accuracy_score\n",
    "from sklearn.model_selection import train_test_split\n",
    "from sklearn.preprocessing import LabelEncoder\n",
    "from sklearn.ensemble import RandomForestClassifier\n",
    "from keras.models import Sequential\n",
    "from keras.layers import Dense, Dropout\n",
    "from keras.optimizers import SGD\n",
    "from keras.utils import np_utils\n",
    "from sklearn.linear_model import LogisticRegressionCV\n",
    "from sklearn.naive_bayes import BernoulliNB\n",
    "from sklearn.naive_bayes import GaussianNB\n",
    "from sklearn.svm import SVC"
   ]
  },
  {
   "cell_type": "code",
   "execution_count": 14,
   "metadata": {
    "collapsed": true
   },
   "outputs": [],
   "source": [
    "def hmm_train (X,y):\n",
    "    X_train, X_test, y_train, y_test = train_test_split(X, y, test_size=0.5, random_state=101)\n",
    "    classifier = MultinomialHMM (decode='bestfirst', alpha=0.5)\n",
    "    lens = [np.sum([len(X_train), len(y_train)]).astype(int),]\n",
    "    classifier.fit(X_train, y_train, lengths=lens)\n",
    "    y_pred = classifier.predict(X_test)\n",
    "    score = accuracy_score(y_test, y_pred)\n",
    "    print(score)"
   ]
  },
  {
   "cell_type": "code",
   "execution_count": 15,
   "metadata": {
    "collapsed": true
   },
   "outputs": [],
   "source": [
    "def rf_train (X,y):\n",
    "    X_train, X_test, y_train, y_test = train_test_split(X, y, test_size=0.5, random_state=101)\n",
    "    rf = RandomForestClassifier(n_estimators = 450, criterion='entropy', random_state=101, max_features=None)\n",
    "    rf.fit(X_train, y_train)\n",
    "    y_pred = rf.predict(X_test)\n",
    "    score = accuracy_score(y_test, y_pred)\n",
    "    print(score)"
   ]
  },
  {
   "cell_type": "code",
   "execution_count": 16,
   "metadata": {
    "collapsed": true
   },
   "outputs": [],
   "source": [
    "def lg_train (X,y):\n",
    "    X_train, X_test, y_train, y_test = train_test_split(X, y, test_size=0.5, random_state=101)\n",
    "    lg = LogisticRegressionCV(class_weight='balanced', multi_class='multinomial', solver='newton-cg')\n",
    "    lg.fit(X_train, y_train)\n",
    "    y_pred = lg.predict(X_test)\n",
    "    score = accuracy_score(y_test, y_pred)\n",
    "    print(score)"
   ]
  },
  {
   "cell_type": "code",
   "execution_count": 17,
   "metadata": {
    "collapsed": true
   },
   "outputs": [],
   "source": [
    "def bl_train (X,y):\n",
    "    X_train, X_test, y_train, y_test = train_test_split(X, y, test_size=0.5, random_state=101)\n",
    "    bl = BernoulliNB(alpha=0.5)\n",
    "    bl.fit(X_train, y_train)\n",
    "    y_pred = bl.predict(X_test)\n",
    "    score = accuracy_score(y_test, y_pred)\n",
    "    print(score)"
   ]
  },
  {
   "cell_type": "code",
   "execution_count": 18,
   "metadata": {
    "collapsed": true
   },
   "outputs": [],
   "source": [
    "def ga_train (X,y):\n",
    "    X_train, X_test, y_train, y_test = train_test_split(X, y, test_size=0.5, random_state=101)\n",
    "    ga = GaussianNB()\n",
    "    ga.fit(X_train, y_train)\n",
    "    y_pred = ga.predict(X_test)\n",
    "    score = accuracy_score(y_test, y_pred)\n",
    "    print(score)"
   ]
  },
  {
   "cell_type": "code",
   "execution_count": 19,
   "metadata": {
    "collapsed": true
   },
   "outputs": [],
   "source": [
    "def svc_train (X,y):\n",
    "    X_train, X_test, y_train, y_test = train_test_split(X, y, test_size=0.5, random_state=101)\n",
    "    svc = SVC(C=1.0, tol=1e-10, cache_size=600, kernel='rbf')\n",
    "    svc.fit(X_train, y_train)\n",
    "    y_pred = svc.predict(X_test)\n",
    "    score = accuracy_score(y_test, y_pred)\n",
    "    print(score)"
   ]
  },
  {
   "cell_type": "code",
   "execution_count": 135,
   "metadata": {},
   "outputs": [
    {
     "name": "stdout",
     "output_type": "stream",
     "text": [
      "0.334106728538\n",
      "0.337973704563\n",
      "0.557617942769\n",
      "0.262180974478\n",
      "0.30626450116\n"
     ]
    }
   ],
   "source": [
    "hmm_train(X_am,y_am[:,0:1].ravel())\n",
    "hmm_train(X_am,y_am[:,1:2].ravel())\n",
    "svc_train(X_am,y_am[:,2:3].ravel())\n",
    "svc_train(X_am,y_am[:,3:4].ravel())\n",
    "hmm_train(X_am,y_am[:,4:5].ravel())"
   ]
  },
  {
   "cell_type": "code",
   "execution_count": 153,
   "metadata": {},
   "outputs": [
    {
     "name": "stdout",
     "output_type": "stream",
     "text": [
      "0.311678267595\n",
      "0.328692962104\n",
      "0.555297757154\n",
      "0.256767208043\n",
      "0.297757153906\n"
     ]
    }
   ],
   "source": [
    "rf_train(X_am,y_am[:,0:1].ravel())\n",
    "rf_train(X_am,y_am[:,1:2].ravel())\n",
    "rf_train(X_am,y_am[:,2:3].ravel())\n",
    "rf_train(X_am,y_am[:,3:4].ravel())\n",
    "rf_train(X_am,y_am[:,4:5].ravel())"
   ]
  },
  {
   "cell_type": "code",
   "execution_count": 133,
   "metadata": {},
   "outputs": [
    {
     "name": "stdout",
     "output_type": "stream",
     "text": [
      "0.334106728538\n",
      "0.337973704563\n",
      "0.556844547564\n",
      "0.247486465584\n",
      "0.30626450116\n"
     ]
    }
   ],
   "source": [
    "hmm_train(X_am,y_am[:,0:1].ravel())\n",
    "hmm_train(X_am,y_am[:,1:2].ravel())\n",
    "hmm_train(X_am,y_am[:,2:3].ravel())\n",
    "hmm_train(X_am,y_am[:,3:4].ravel())\n",
    "hmm_train(X_am,y_am[:,4:5].ravel())"
   ]
  },
  {
   "cell_type": "code",
   "execution_count": 139,
   "metadata": {},
   "outputs": [
    {
     "name": "stdout",
     "output_type": "stream",
     "text": [
      "0.275098814229\n",
      "0.286166007905\n",
      "0.37233201581\n",
      "0.302766798419\n",
      "0.237154150198\n"
     ]
    }
   ],
   "source": [
    "rf_train(X_az,y_az[:,0:1].ravel())\n",
    "rf_train(X_az,y_az[:,1:2].ravel())\n",
    "rf_train(X_az,y_az[:,2:3].ravel())\n",
    "rf_train(X_az,y_az[:,3:4].ravel())\n",
    "rf_train(X_az,y_az[:,4:5].ravel())"
   ]
  },
  {
   "cell_type": "code",
   "execution_count": 22,
   "metadata": {},
   "outputs": [
    {
     "name": "stdout",
     "output_type": "stream",
     "text": [
      "0.274636510501\n",
      "0.392568659128\n",
      "0.273828756058\n",
      "0.242326332795\n",
      "0.264943457189\n"
     ]
    }
   ],
   "source": [
    "rf_train(X_c,y_c[:,0:1].ravel())\n",
    "rf_train(X_c,y_c[:,1:2].ravel())\n",
    "rf_train(X_c,y_c[:,2:3].ravel())\n",
    "rf_train(X_c,y_c[:,3:4].ravel())\n",
    "rf_train(X_c,y_c[:,4:5].ravel())"
   ]
  },
  {
   "cell_type": "code",
   "execution_count": 23,
   "metadata": {},
   "outputs": [
    {
     "name": "stdout",
     "output_type": "stream",
     "text": [
      "0.312753858652\n",
      "0.260763606824\n",
      "0.310316815597\n",
      "0.313566206336\n",
      "0.353371242892\n"
     ]
    }
   ],
   "source": [
    "rf_train(X_r,y_r[:,0:1].ravel())\n",
    "rf_train(X_r,y_r[:,1:2].ravel())\n",
    "rf_train(X_r,y_r[:,2:3].ravel())\n",
    "rf_train(X_r,y_r[:,3:4].ravel())\n",
    "rf_train(X_r,y_r[:,4:5].ravel())"
   ]
  },
  {
   "cell_type": "code",
   "execution_count": 24,
   "metadata": {},
   "outputs": [
    {
     "name": "stdout",
     "output_type": "stream",
     "text": [
      "0.371428571429\n",
      "0.4\n",
      "0.257142857143\n",
      "0.142857142857\n",
      "0.171428571429\n"
     ]
    }
   ],
   "source": [
    "rf_train(X_am2,y_am2[:,0:1].ravel())\n",
    "rf_train(X_am2,y_am2[:,1:2].ravel())\n",
    "rf_train(X_am2,y_am2[:,2:3].ravel())\n",
    "rf_train(X_am2,y_am2[:,3:4].ravel())\n",
    "rf_train(X_am2,y_am2[:,4:5].ravel())"
   ]
  },
  {
   "cell_type": "code",
   "execution_count": 25,
   "metadata": {},
   "outputs": [
    {
     "name": "stdout",
     "output_type": "stream",
     "text": [
      "0.3\n",
      "0.55\n",
      "0.175\n",
      "0.525\n",
      "0.225\n"
     ]
    }
   ],
   "source": [
    "rf_train(X_az2,y_az2[:,0:1].ravel())\n",
    "rf_train(X_az2,y_az2[:,1:2].ravel())\n",
    "rf_train(X_az2,y_az2[:,2:3].ravel())\n",
    "rf_train(X_az2,y_az2[:,3:4].ravel())\n",
    "rf_train(X_az2,y_az2[:,4:5].ravel())"
   ]
  },
  {
   "cell_type": "code",
   "execution_count": 26,
   "metadata": {},
   "outputs": [
    {
     "name": "stdout",
     "output_type": "stream",
     "text": [
      "0.297297297297\n",
      "0.486486486486\n",
      "0.378378378378\n",
      "0.297297297297\n",
      "0.324324324324\n"
     ]
    }
   ],
   "source": [
    "rf_train(X_c2,y_c2[:,0:1].ravel())\n",
    "rf_train(X_c2,y_c2[:,1:2].ravel())\n",
    "rf_train(X_c2,y_c2[:,2:3].ravel())\n",
    "rf_train(X_c2,y_c2[:,3:4].ravel())\n",
    "rf_train(X_c2,y_c2[:,4:5].ravel())"
   ]
  },
  {
   "cell_type": "code",
   "execution_count": 27,
   "metadata": {},
   "outputs": [
    {
     "name": "stdout",
     "output_type": "stream",
     "text": [
      "0.4375\n",
      "0.4375\n",
      "0.375\n",
      "0.375\n",
      "0.25\n"
     ]
    }
   ],
   "source": [
    "rf_train(X_r2,y_r2[:,0:1].ravel())\n",
    "rf_train(X_r2,y_r2[:,1:2].ravel())\n",
    "rf_train(X_r2,y_r2[:,2:3].ravel())\n",
    "rf_train(X_r2,y_r2[:,3:4].ravel())\n",
    "rf_train(X_r2,y_r2[:,4:5].ravel())"
   ]
  },
  {
   "cell_type": "markdown",
   "metadata": {},
   "source": [
    "# Separando em cores e questões TEST"
   ]
  },
  {
   "cell_type": "code",
   "execution_count": 20,
   "metadata": {
    "collapsed": true
   },
   "outputs": [],
   "source": [
    "prova_test_am2 = test_features[test_features['CO_PROVA_MT'] == 'AMARELA2'].drop(['CO_PROVA_MT'], axis=1)\n",
    "prova_test_az2 = test_features[test_features['CO_PROVA_MT'] == 'AZUL2'].drop(['CO_PROVA_MT'], axis=1)\n",
    "prova_test_r2 = test_features[test_features['CO_PROVA_MT'] == 'ROSA2'].drop(['CO_PROVA_MT'], axis=1)\n",
    "prova_test_c2 = test_features[test_features['CO_PROVA_MT'] == 'CINZA2'].drop(['CO_PROVA_MT'], axis=1)\n",
    "prova_test_az = test_features[test_features['CO_PROVA_MT'] == 'AZUL'].drop(['CO_PROVA_MT'], axis=1)\n",
    "prova_test_am = test_features[test_features['CO_PROVA_MT'] == 'AMARELA'].drop(['CO_PROVA_MT'], axis=1)\n",
    "prova_test_r = test_features[test_features['CO_PROVA_MT'] == 'ROSA'].drop(['CO_PROVA_MT'], axis=1)\n",
    "prova_test_c = test_features[test_features['CO_PROVA_MT'] == 'CINZA'].drop(['CO_PROVA_MT'], axis=1)"
   ]
  },
  {
   "cell_type": "code",
   "execution_count": 21,
   "metadata": {
    "collapsed": true
   },
   "outputs": [],
   "source": [
    "Xt_am = prova_test_am.drop(['NU_INSCRICAO'],axis=1).values\n",
    "Xt_az = prova_test_az.drop(['NU_INSCRICAO'],axis=1).values\n",
    "Xt_c = prova_test_c.drop(['NU_INSCRICAO'],axis=1).values\n",
    "Xt_r = prova_test_r.drop(['NU_INSCRICAO'],axis=1).values\n",
    "Xt_am2 = prova_test_am2.drop(['NU_INSCRICAO'],axis=1).values\n",
    "Xt_az2 = prova_test_az2.drop(['NU_INSCRICAO'],axis=1).values\n",
    "Xt_c2 = prova_test_c2.drop(['NU_INSCRICAO'],axis=1).values\n",
    "Xt_r2 = prova_test_r2.drop(['NU_INSCRICAO'],axis=1).values"
   ]
  },
  {
   "cell_type": "markdown",
   "metadata": {},
   "source": [
    "# Modelo Test"
   ]
  },
  {
   "cell_type": "code",
   "execution_count": 22,
   "metadata": {
    "collapsed": true
   },
   "outputs": [],
   "source": [
    "def hmm_test (X_train,y_train, X_test):\n",
    "    classifier = MultinomialHMM (decode='bestfirst', alpha=0.5)\n",
    "    lens = [np.sum([len(X_train), len(y_train)]).astype(int),]\n",
    "    classifier.fit(X_train, y_train, lengths=lens)\n",
    "    y_pred = classifier.predict(X_test)\n",
    "    return y_pred"
   ]
  },
  {
   "cell_type": "code",
   "execution_count": 33,
   "metadata": {
    "collapsed": true
   },
   "outputs": [],
   "source": [
    "def rf_test (X_train,y_train, X_test):\n",
    "    rf = RandomForestClassifier(n_estimators = 405, criterion='entropy', random_state=101)\n",
    "    rf.fit(X_train, y_train)\n",
    "    y_pred = rf.predict(X_test)\n",
    "    return y_pred"
   ]
  },
  {
   "cell_type": "code",
   "execution_count": 24,
   "metadata": {
    "collapsed": true
   },
   "outputs": [],
   "source": [
    "def svc_test (X_train,y_train, X_test):\n",
    "    svc = SVC(C=1.0, tol=1e-10, cache_size=600, kernel='rbf')\n",
    "    svc.fit(X_train, y_train)\n",
    "    y_pred = svc.predict(X_test)\n",
    "    return y_pred"
   ]
  },
  {
   "cell_type": "code",
   "execution_count": 25,
   "metadata": {
    "collapsed": true
   },
   "outputs": [],
   "source": [
    "cols = [1,2,3,4,5, 'NU_INSCRICAO']"
   ]
  },
  {
   "cell_type": "code",
   "execution_count": 79,
   "metadata": {
    "collapsed": true
   },
   "outputs": [],
   "source": [
    "prova_test_am[1] = hmm_test(X_am,y_am[:,0:1].ravel(), Xt_am)\n",
    "prova_test_am[2] = hmm_test(X_am,y_am[:,1:2].ravel(), Xt_am)\n",
    "prova_test_am[3] = svc_test(X_am,y_am[:,2:3].ravel(), Xt_am)\n",
    "prova_test_am[4] = svc_test(X_am,y_am[:,3:4].ravel(), Xt_am)\n",
    "prova_test_am[5] = hmm_test(X_am,y_am[:,4:5].ravel(), Xt_am)\n",
    "prova_test_am = prova_test_am[cols]\n",
    "\n",
    "prova_test_az[1] = rf_test(X_az,y_az[:,0:1].ravel(), Xt_az)\n",
    "prova_test_az[2] = rf_test(X_az,y_az[:,1:2].ravel(), Xt_az)\n",
    "prova_test_az[3] = rf_test(X_az,y_az[:,2:3].ravel(), Xt_az)\n",
    "prova_test_az[4] = rf_test(X_az,y_az[:,3:4].ravel(), Xt_az)\n",
    "prova_test_az[5] = rf_test(X_az,y_az[:,4:5].ravel(), Xt_az)\n",
    "prova_test_az = prova_test_az[cols]\n",
    "\n",
    "prova_test_c[1] = rf_test(X_c,y_c[:,0:1].ravel(), Xt_c)\n",
    "prova_test_c[2] = rf_test(X_c,y_c[:,1:2].ravel(), Xt_c)\n",
    "prova_test_c[3] = rf_test(X_c,y_c[:,2:3].ravel(), Xt_c)\n",
    "prova_test_c[4] = hmm_test(X_c,y_c[:,3:4].ravel(), Xt_c)\n",
    "prova_test_c[5] = hmm_test(X_c,y_c[:,4:5].ravel(), Xt_c)\n",
    "prova_test_c = prova_test_c[cols]\n",
    "\n",
    "prova_test_r[1] = rf_test(X_r,y_r[:,0:1].ravel(), Xt_r)\n",
    "prova_test_r[2] = rf_test(X_r,y_r[:,1:2].ravel(), Xt_r)\n",
    "prova_test_r[3] = rf_test(X_r,y_r[:,2:3].ravel(), Xt_r)\n",
    "prova_test_r[4] = rf_test(X_r,y_r[:,3:4].ravel(), Xt_r)\n",
    "prova_test_r[5] = rf_test(X_r,y_r[:,4:5].ravel(), Xt_r)\n",
    "prova_test_r = prova_test_r[cols]\n",
    "\n",
    "prova_test_am2[1] = rf_test(X_am2,y_am2[:,0:1].ravel(), Xt_am2)\n",
    "prova_test_am2[2] = rf_test(X_am2,y_am2[:,1:2].ravel(), Xt_am2)\n",
    "prova_test_am2[3] = rf_test(X_am2,y_am2[:,2:3].ravel(), Xt_am2)\n",
    "prova_test_am2[4] = rf_test(X_am2,y_am2[:,3:4].ravel(), Xt_am2)\n",
    "prova_test_am2[5] = rf_test(X_am2,y_am2[:,4:5].ravel(), Xt_am2)\n",
    "prova_test_am2 = prova_test_am2[cols]\n",
    "\n",
    "prova_test_az2[1] = rf_test(X_az2,y_az2[:,0:1].ravel(), Xt_az2)\n",
    "prova_test_az2[2] = svc_test(X_az2,y_az2[:,1:2].ravel(), Xt_az2)\n",
    "prova_test_az2[3] = rf_test(X_az2,y_az2[:,2:3].ravel(), Xt_az2)\n",
    "prova_test_az2[4] = svc_test(X_az2,y_az2[:,3:4].ravel(), Xt_az2)\n",
    "prova_test_az2[5] = rf_test(X_az2,y_az2[:,4:5].ravel(), Xt_az2)\n",
    "prova_test_az2 = prova_test_az2[cols]\n",
    "\n",
    "prova_test_c2[1] = rf_test(X_c2,y_c2[:,0:1].ravel(), Xt_c2)\n",
    "prova_test_c2[2] = rf_test(X_c2,y_c2[:,1:2].ravel(), Xt_c2)\n",
    "prova_test_c2[3] = rf_test(X_c2,y_c2[:,2:3].ravel(), Xt_c2)\n",
    "prova_test_c2[4] = rf_test(X_c2,y_c2[:,3:4].ravel(), Xt_c2)\n",
    "prova_test_c2[5] = rf_test(X_c2,y_c2[:,4:5].ravel(), Xt_c2)\n",
    "prova_test_c2 = prova_test_c2[cols]\n",
    "\n",
    "prova_test_r2[1] = rf_test(X_r2,y_r2[:,0:1].ravel(), Xt_r2)\n",
    "prova_test_r2[2] = rf_test(X_r2,y_r2[:,1:2].ravel(), Xt_r2)\n",
    "prova_test_r2[3] = rf_test(X_r2,y_r2[:,2:3].ravel(), Xt_r2)\n",
    "prova_test_r2[4] = rf_test(X_r2,y_r2[:,3:4].ravel(), Xt_r2)\n",
    "prova_test_r2[5] = rf_test(X_r2,y_r2[:,4:5].ravel(), Xt_r2)\n",
    "prova_test_r2 = prova_test_r2[cols]"
   ]
  },
  {
   "cell_type": "code",
   "execution_count": 80,
   "metadata": {
    "collapsed": true
   },
   "outputs": [],
   "source": [
    "prova_test = pd.concat([prova_test_am, prova_test_az, prova_test_c, prova_test_r, prova_test_am2, prova_test_az2, prova_test_c2, prova_test_r2], join='outer')"
   ]
  },
  {
   "cell_type": "code",
   "execution_count": 81,
   "metadata": {
    "collapsed": true
   },
   "outputs": [],
   "source": [
    "prova_test['TX_RESPOSTAS_MT'] = prova_test[1] + prova_test[2] + prova_test[3] + prova_test[4] + prova_test[5] \n",
    "prova_test = prova_test.drop([1,2,3,4,5], axis=1)"
   ]
  },
  {
   "cell_type": "markdown",
   "metadata": {},
   "source": [
    "# Juntando com prova_5"
   ]
  },
  {
   "cell_type": "code",
   "execution_count": 103,
   "metadata": {
    "collapsed": true
   },
   "outputs": [],
   "source": [
    "prova_test = prova_test.rename(index=str, columns={1: \"176_\", 2: \"177_\", 3:\"178_\", 4:\"179_\", 5:\"180_\"})\n",
    "respostas_5 = pd.read_csv('respostas_5_total.csv')\n",
    "respostas_5 = respostas_5.drop(['Unnamed: 0'],axis=1)"
   ]
  },
  {
   "cell_type": "code",
   "execution_count": 104,
   "metadata": {
    "collapsed": true
   },
   "outputs": [],
   "source": [
    "prova_5 = prova_test.merge(respostas_5, on=['NU_INSCRICAO'], how='left')\n",
    "prova_5['176_'] = prova_5['176_'][prova_5['176'].isnull()] \n",
    "prova_5['177_'] = prova_5['177_'][prova_5['177'].isnull()]\n",
    "prova_5['178_'] = prova_5['178_'][prova_5['178'].isnull()]\n",
    "prova_5['179_'] = prova_5['179_'][prova_5['179'].isnull()]\n",
    "prova_5['180_'] = prova_5['180_'][prova_5['180'].isnull()]\n",
    "prova_5 = prova_5.fillna('')\n",
    "prova_5['176'] = prova_5['176'] + prova_5['176_']\n",
    "prova_5['177'] = prova_5['177'] + prova_5['177_']\n",
    "prova_5['178'] = prova_5['178'] + prova_5['178_']\n",
    "prova_5['179'] = prova_5['179'] + prova_5['179_']\n",
    "prova_5['180'] = prova_5['180'] + prova_5['180_']"
   ]
  },
  {
   "cell_type": "code",
   "execution_count": 105,
   "metadata": {},
   "outputs": [
    {
     "data": {
      "text/html": [
       "<div>\n",
       "<style>\n",
       "    .dataframe thead tr:only-child th {\n",
       "        text-align: right;\n",
       "    }\n",
       "\n",
       "    .dataframe thead th {\n",
       "        text-align: left;\n",
       "    }\n",
       "\n",
       "    .dataframe tbody tr th {\n",
       "        vertical-align: top;\n",
       "    }\n",
       "</style>\n",
       "<table border=\"1\" class=\"dataframe\">\n",
       "  <thead>\n",
       "    <tr style=\"text-align: right;\">\n",
       "      <th></th>\n",
       "      <th>NU_INSCRICAO</th>\n",
       "      <th>TX_RESPOSTAS_MT</th>\n",
       "    </tr>\n",
       "  </thead>\n",
       "  <tbody>\n",
       "    <tr>\n",
       "      <th>0</th>\n",
       "      <td>00aeb990ba424494c5d80e531a35a5ad95ca0974</td>\n",
       "      <td>ADCEE</td>\n",
       "    </tr>\n",
       "    <tr>\n",
       "      <th>1</th>\n",
       "      <td>cd48ebad3a851751af436c2ba6d35f1c8393a9bb</td>\n",
       "      <td>ADCAE</td>\n",
       "    </tr>\n",
       "    <tr>\n",
       "      <th>2</th>\n",
       "      <td>5bd4b9c26f80f06e494c338ebb3174a274f6a89c</td>\n",
       "      <td>ADCEE</td>\n",
       "    </tr>\n",
       "    <tr>\n",
       "      <th>3</th>\n",
       "      <td>5d13ccbc6542cf047eb88bf09debd265ee9f61a0</td>\n",
       "      <td>ADCAC</td>\n",
       "    </tr>\n",
       "    <tr>\n",
       "      <th>4</th>\n",
       "      <td>92ee9d462a6d69c8c5608a75a6dac95b2af01f3a</td>\n",
       "      <td>ABCAC</td>\n",
       "    </tr>\n",
       "  </tbody>\n",
       "</table>\n",
       "</div>"
      ],
      "text/plain": [
       "                               NU_INSCRICAO TX_RESPOSTAS_MT\n",
       "0  00aeb990ba424494c5d80e531a35a5ad95ca0974           ADCEE\n",
       "1  cd48ebad3a851751af436c2ba6d35f1c8393a9bb           ADCAE\n",
       "2  5bd4b9c26f80f06e494c338ebb3174a274f6a89c           ADCEE\n",
       "3  5d13ccbc6542cf047eb88bf09debd265ee9f61a0           ADCAC\n",
       "4  92ee9d462a6d69c8c5608a75a6dac95b2af01f3a           ABCAC"
      ]
     },
     "execution_count": 105,
     "metadata": {},
     "output_type": "execute_result"
    }
   ],
   "source": [
    "prova_5 = prova_5.drop(['176_','177_','178_','179_','180_'], axis=1)\n",
    "prova_5['TX_RESPOSTAS_MT'] = prova_5['176'] + prova_5['177'] + prova_5['178'] + prova_5['179'] + prova_5['180']\n",
    "prova_5 = prova_5.drop(['176','177','178','179','180'], axis=1)\n",
    "prova_5.head()"
   ]
  },
  {
   "cell_type": "markdown",
   "metadata": {},
   "source": [
    "# Submissão"
   ]
  },
  {
   "cell_type": "code",
   "execution_count": 82,
   "metadata": {
    "collapsed": true
   },
   "outputs": [],
   "source": [
    "Final_summit = prova_test\n",
    "dic = Final_summit.to_dict(\"records\")\n",
    "dicf = {\n",
    "  \"token\": \"e2579c92a6ab22c1f8b612128ac33198167127c1\",\n",
    "  \"email\": \"tiago.shink@gmail.com\",\n",
    "  \"answer\": dic}"
   ]
  },
  {
   "cell_type": "code",
   "execution_count": 83,
   "metadata": {
    "collapsed": true
   },
   "outputs": [],
   "source": [
    "import requests\n",
    "r = requests.get('https://api.codenation.com.br/v1/user/acceleration/data-science/challenge/enem-3/submit')\n",
    "r = requests.post('https://api.codenation.com.br/v1/user/acceleration/data-science/challenge/enem-3/submit', json = dicf)"
   ]
  },
  {
   "cell_type": "code",
   "execution_count": 84,
   "metadata": {},
   "outputs": [
    {
     "name": "stdout",
     "output_type": "stream",
     "text": [
      "{\"score\":32.10622710622711}\n",
      "\n"
     ]
    }
   ],
   "source": [
    "print(r.text)"
   ]
  },
  {
   "cell_type": "code",
   "execution_count": null,
   "metadata": {
    "collapsed": true
   },
   "outputs": [],
   "source": [
    "{\"score\":32.11233211233211}\n",
    "{\"score\":32.11843711843712}"
   ]
  },
  {
   "cell_type": "code",
   "execution_count": null,
   "metadata": {
    "collapsed": true
   },
   "outputs": [],
   "source": []
  },
  {
   "cell_type": "code",
   "execution_count": null,
   "metadata": {
    "collapsed": true
   },
   "outputs": [],
   "source": [
    "{\"score\":31.739926739926737} - reglin sem scale\n",
    "{\"score\":31.12942612942613} - reglin com scale\n",
    "{\"score\":31.86202686202686} - prova_5 - respostas certas separados por cor\n",
    "{\"score\":31.336996336996336} - prova_5_cluster - respostas certas separadas por cluster\n",
    "{\"score\":31.89255189255189} - respostas certas separadas por cor. Regressão feita com amostra total"
   ]
  },
  {
   "cell_type": "code",
   "execution_count": null,
   "metadata": {
    "collapsed": true
   },
   "outputs": [],
   "source": [
    "{\"score\":31.81318681318681} - 350\n",
    "{\"score\":31.84371184371184} - 380\n",
    "{\"score\":31.898656898656895} - 395\n",
    "{\"score\":31.98412698412698} - 400\n",
    "{\"score\":32.032967032967036} - 405\n",
    "{\"score\":31.990231990231987} - 406\n",
    "{\"score\":31.978021978021975} - 410\n",
    "{\"score\":31.770451770451768} - 450\n",
    "{\"score\":31.87423687423687} - 500\n",
    "\n",
    "\n",
    "\n",
    "{\"score\":31.776556776556774} - mixed 405\n"
   ]
  }
 ],
 "metadata": {
  "kernelspec": {
   "display_name": "Python 3",
   "language": "python",
   "name": "python3"
  },
  "language_info": {
   "codemirror_mode": {
    "name": "ipython",
    "version": 3
   },
   "file_extension": ".py",
   "mimetype": "text/x-python",
   "name": "python",
   "nbconvert_exporter": "python",
   "pygments_lexer": "ipython3",
   "version": "3.6.7"
  }
 },
 "nbformat": 4,
 "nbformat_minor": 2
}
